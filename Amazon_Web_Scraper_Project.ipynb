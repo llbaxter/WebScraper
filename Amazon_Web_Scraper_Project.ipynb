{
  "cells": [
    {
      "cell_type": "code",
      "execution_count": 48,
      "id": "f236cbb9",
      "metadata": {
        "id": "f236cbb9"
      },
      "outputs": [],
      "source": [
        "from bs4 import BeautifulSoup\n",
        "import requests\n",
        "import time\n",
        "import datetime\n",
        "import smtplib"
      ]
    },
    {
      "cell_type": "code",
      "execution_count": null,
      "id": "9b531b61",
      "metadata": {
        "id": "9b531b61"
      },
      "outputs": [],
      "source": [
        "# Connect to Amazon and pull data\n",
        "\n",
        "URL = 'https://www.amazon.co.uk/Philips-AC0820-30-Purifier-Anti-Allergen/dp/B07TQH4SJZ/ref=sr_1_3?crid=2TM47WVZ3TQ5P&keywords=philips+series+800+air+purifier&qid=1691929312&sprefix=philips+series+800%2Caps%2C104&sr=8-3'\n",
        "\n",
        "headers = {\"User-Agent\": \"Mozilla/5.0 (Windows NT 10.0; Win64; x64) AppleWebKit/537.36 (KHTML, like Gecko) Chrome/115.0.0.0 Safari/537.36\", \"Accept-Encoding\":\"gzip, deflate\", \"Accept\":\"text/html,application/xhtml+xml,application/xml;q=0.9,*/*;q=0.8\", \"DNT\":\"1\",\"Connection\":\"close\", \"Upgrade-Insecure-Requests\":\"1\"}\n",
        "page = requests.get(URL, headers=headers)\n",
        "\n",
        "soup1 = BeautifulSoup(page.content, \"html.parser\")\n",
        "\n",
        "soup2 = BeautifulSoup(soup1.prettify(), \"html.parser\")\n",
        "\n",
        "title = soup2.find(id='productTitle').get_text()\n",
        "\n",
        "price = soup2.find(id='mbc-price-1').get_text()\n",
        "\n",
        "print(title)\n",
        "print(price)"
      ]
    },
    {
      "cell_type": "code",
      "execution_count": 55,
      "id": "b6f7d66e",
      "metadata": {
        "colab": {
          "base_uri": "https://localhost:8080/"
        },
        "id": "b6f7d66e",
        "outputId": "4b7ee5e0-65b4-4199-8456-5f5200815bf5"
      },
      "outputs": [
        {
          "output_type": "stream",
          "name": "stdout",
          "text": [
            "Philips AC0820/30 Series 800 Compact Purifier with Real Time Air Quality Feedback, Anti-Allergen, Reduces Odours and Gases, NanoProtect filter, 22 W\n",
            "2.16\n"
          ]
        }
      ],
      "source": [
        "# Clean data\n",
        "\n",
        "price = price.strip()[1:]\n",
        "title = title.strip()\n",
        "\n",
        "print(title)\n",
        "print(price)"
      ]
    },
    {
      "cell_type": "code",
      "execution_count": null,
      "id": "4f021c23",
      "metadata": {
        "colab": {
          "base_uri": "https://localhost:8080/"
        },
        "id": "4f021c23",
        "outputId": "dbb5c2d5-183b-4d3e-e545-d22d8f71b749"
      },
      "outputs": [
        {
          "output_type": "stream",
          "name": "stdout",
          "text": [
            "2023-08-13\n"
          ]
        }
      ],
      "source": [
        "# Create a Timestamp to track when data was collected\n",
        "\n",
        "import datetime\n",
        "\n",
        "today = datetime.date.today()\n",
        "\n",
        "print(today)"
      ]
    },
    {
      "cell_type": "code",
      "execution_count": null,
      "id": "14d703ca",
      "metadata": {
        "id": "14d703ca"
      },
      "outputs": [],
      "source": [
        "# Create CSV and write headers and data into the file\n",
        "\n",
        "import csv\n",
        "\n",
        "header = ['Title', 'Price', 'Date']\n",
        "data = [title, price, today]\n",
        "\n",
        "\n",
        "with open('AmazonWebScraperDataset.csv', 'w', newline='', encoding='UTF8') as f:\n",
        "    writer = csv.writer(f)\n",
        "    writer.writerow(header)\n",
        "    writer.writerow(data)"
      ]
    },
    {
      "cell_type": "code",
      "execution_count": null,
      "id": "d07eeb86",
      "metadata": {
        "colab": {
          "base_uri": "https://localhost:8080/"
        },
        "id": "d07eeb86",
        "outputId": "3839bbe6-afae-4a45-8683-9bf8eeb4438c"
      },
      "outputs": [
        {
          "output_type": "stream",
          "name": "stdout",
          "text": [
            "                                               Title   Price        Date\n",
            "0  Philips AC0820/30 Series 800 Compact Purifier ...  132.16  2023-08-13\n"
          ]
        }
      ],
      "source": [
        "import pandas as pd\n",
        "\n",
        "df = pd.read_csv(r'/content/AmazonWebScraperDataset.csv')\n",
        "\n",
        "print(df)"
      ]
    },
    {
      "cell_type": "code",
      "execution_count": null,
      "id": "6b05c1eb",
      "metadata": {
        "id": "6b05c1eb"
      },
      "outputs": [],
      "source": [
        "# Append data to the csv\n",
        "\n",
        "with open('AmazonWebScraperDataset.csv', 'a+', newline='', encoding='UTF8') as f:\n",
        "    writer = csv.writer(f)\n",
        "    writer.writerow(data)"
      ]
    },
    {
      "cell_type": "code",
      "execution_count": null,
      "id": "8e95b9e0",
      "metadata": {
        "id": "8e95b9e0"
      },
      "outputs": [],
      "source": [
        "# Combining code into one function\n",
        "def check_price():\n",
        "    URL = 'https://www.amazon.co.uk/Philips-AC0820-30-Purifier-Anti-Allergen/dp/B07TQH4SJZ/ref=sr_1_3?crid=2TM47WVZ3TQ5P&keywords=philips+series+800+air+purifier&qid=1691929312&sprefix=philips+series+800%2Caps%2C104&sr=8-3'\n",
        "    headers = {\"User-Agent\": \"Mozilla/5.0 (Windows NT 10.0; Win64; x64) AppleWebKit/537.36 (KHTML, like Gecko) Chrome/115.0.0.0 Safari/537.36\", \"Accept-Encoding\":\"gzip, deflate\", \"Accept\":\"text/html,application/xhtml+xml,application/xml;q=0.9,*/*;q=0.8\", \"DNT\":\"1\",\"Connection\":\"close\", \"Upgrade-Insecure-Requests\":\"1\"}\n",
        "    page = requests.get(URL, headers=headers)\n",
        "    soup1 = BeautifulSoup(page.content, \"html.parser\")\n",
        "    soup2 = BeautifulSoup(soup1.prettify(), \"html.parser\")\n",
        "    title = soup2.find(id='productTitle').get_text()\n",
        "    price = soup2.find(id='mbc-price-1').get_text()\n",
        "    price = price.strip()[1:]\n",
        "    title = title.strip()\n",
        "    import datetime\n",
        "    today = datetime.date.today()\n",
        "    import csv\n",
        "    header = ['Title', 'Price', 'Date']\n",
        "    data = [title, price, today]\n",
        "    with open('AmazonWebScraperDataset.csv', 'a+', newline='', encoding='UTF8') as f:\n",
        "        writer = csv.writer(f)\n",
        "        writer.writerow(data)\n",
        "    if(price < 100):\n",
        "        send_mail()"
      ]
    },
    {
      "cell_type": "code",
      "execution_count": null,
      "id": "c72f2c4e",
      "metadata": {
        "id": "c72f2c4e"
      },
      "outputs": [],
      "source": [
        "# Runs check_price after a set time and inputs data into CSV\n",
        "\n",
        "while(True):\n",
        "    check_price()\n",
        "    time.sleep(86400)"
      ]
    },
    {
      "cell_type": "code",
      "execution_count": 56,
      "id": "00af7126",
      "metadata": {
        "id": "00af7126",
        "colab": {
          "base_uri": "https://localhost:8080/"
        },
        "outputId": "7c36177d-dfc5-4327-aeb4-40b8605d2551"
      },
      "outputs": [
        {
          "output_type": "stream",
          "name": "stdout",
          "text": [
            "                                               Title   Price        Date\n",
            "0  Philips AC0820/30 Series 800 Compact Purifier ...  132.16  2023-08-13\n",
            "1  Philips AC0820/30 Series 800 Compact Purifier ...  132.16  2023-08-13\n"
          ]
        }
      ],
      "source": [
        "import pandas as pd\n",
        "\n",
        "df = pd.read_csv(r'/content/AmazonWebScraperDataset.csv')\n",
        "\n",
        "print(df)"
      ]
    },
    {
      "cell_type": "code",
      "execution_count": 57,
      "id": "d14fce5f",
      "metadata": {
        "id": "d14fce5f"
      },
      "outputs": [],
      "source": [
        "# Email alert\n",
        "# Change email and pasword\n",
        "\n",
        "def send_mail():\n",
        "    email = 'xxxx'\n",
        "    password = ' xxxx'\n",
        "    server = smtplib.SMTP_SSL('smtp.gmail.com',465)\n",
        "    server.ehlo()\n",
        "    #server.starttls()\n",
        "    server.ehlo()\n",
        "    server.login(email, password)\n",
        "\n",
        "    subject = \"The product you wanted has gone below your price threshold! Now is your chance to buy!\"\n",
        "    body = \"This is the moment we have been waiting for. Link here: https://www.amazon.co.uk/Philips-AC0820-30-Purifier-Anti-Allergen/dp/B07TQH4SJZ/ref=sr_1_3?crid=2TM47WVZ3TQ5P&keywords=philips+series+800+air+purifier&qid=1691929312&sprefix=philips+series+800%2Caps%2C104&sr=8-3\"\n",
        "\n",
        "    msg = f\"Subject: {subject}\\n\\n{body}\"\n",
        "\n",
        "    server.sendmail(\n",
        "        email,\n",
        "        msg\n",
        "    )"
      ]
    }
  ],
  "metadata": {
    "kernelspec": {
      "display_name": "Python 3",
      "language": "python",
      "name": "python3"
    },
    "language_info": {
      "codemirror_mode": {
        "name": "ipython",
        "version": 3
      },
      "file_extension": ".py",
      "mimetype": "text/x-python",
      "name": "python",
      "nbconvert_exporter": "python",
      "pygments_lexer": "ipython3",
      "version": "3.8.8"
    },
    "colab": {
      "provenance": [],
      "toc_visible": true
    }
  },
  "nbformat": 4,
  "nbformat_minor": 5
}